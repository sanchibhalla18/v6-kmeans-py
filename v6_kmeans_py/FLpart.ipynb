{
 "cells": [
  {
   "cell_type": "code",
   "execution_count": 1,
   "id": "e2d001f7",
   "metadata": {},
   "outputs": [],
   "source": [
    "import os\n",
    "from vantage6.tools.mock_client import ClientMockProtocol "
   ]
  },
  {
   "cell_type": "code",
   "execution_count": 2,
   "id": "66e2fd69",
   "metadata": {},
   "outputs": [],
   "source": [
    "# Start mock client\n",
    "data_dir = os.path.join(os.getcwd(), 'local')\n",
    "client = ClientMockProtocol(\n",
    "    datasets=[\n",
    "        os.path.join(data_dir, 'bcdata1scaledn.csv'),\n",
    "        os.path.join(data_dir, 'bcdata2scaledn.csv')\n",
    "    ],\n",
    "    module='v6_kmeans_py'\n",
    ")"
   ]
  },
  {
   "cell_type": "code",
   "execution_count": 3,
   "id": "983ac6f5",
   "metadata": {},
   "outputs": [
    {
     "name": "stdout",
     "output_type": "stream",
     "text": [
      "[{'id': 0, 'name': 'mock-0', 'domain': 'mock-0.org'}, {'id': 1, 'name': 'mock-1', 'domain': 'mock-1.org'}]\n"
     ]
    }
   ],
   "source": [
    "# Get mock organisations\n",
    "organizations = client.get_organizations_in_my_collaboration()\n",
    "print(organizations)\n",
    "ids = [organization['id'] for organization in organizations]"
   ]
  },
  {
   "cell_type": "code",
   "execution_count": 4,
   "id": "020aa607",
   "metadata": {},
   "outputs": [
    {
     "name": "stdout",
     "output_type": "stream",
     "text": [
      "info > Collecting participating organizations\n",
      "info > Initializing k global cluster centres\n",
      "info > Dispatching node tasks\n",
      "info > Randomly sample 2 data points to use as initial centroids\n",
      "info > Randomly sample 2 data points to use as initial centroids\n",
      "info > Waiting for results\n",
      "info > Obtaining results\n",
      "{'id': 999, 'result': b\"\\x80\\x03]q\\x00(]q\\x01(G?\\xcc\\xe4\\x06'\\xaa\\xfeiG?\\xd0\\xfd}E\\xdd\\x8b\\x1dG?\\xdf\\x96>\\x89\\xc9\\x98\\xcbG?\\xce\\x86\\x96\\x8b<\\x92\\x8cG?\\xcc?\\x1b\\xfd\\xf6\\xd6\\xc6G?\\xd6\\xa8\\xa7\\\\\\x17J\\xd7G?\\xbf\\xae\\x9e\\x10\\x06\\xe8\\xe6G?\\xd1c\\xd0k\\x92\\\\\\x10G?\\xbeN\\x00!9\\x8f4G?\\xd5\\xe0\\xdc'\\x1b(0G?\\xc557*2\\xbc;G?\\xa6uKgT\\xb6lG?\\xcf\\xe8\\xb9\\r\\xa0w{G?\\xc2\\xda\\x94\\x9c\\x98\\x19;G?\\xa9,\\xa6Iv\\xdbNG?\\xc7\\tU\\xf0[<\\xd0G?\\xc2\\xeaV\\xd84c\\x88e]q\\x02(G?\\xe5^@0\\xda\\x16\\xc2G?\\xe2>\\xdaW\\x17\\xfb&G?\\xe1\\xc2\\x044\\xc9\\x10\\xb6G?\\xe9\\xe5\\x15\\x17ZI\\x17G?\\xe7\\xcb\\x11\\xd0(\\xb79G?\\xe00O]\\xd0\\xfb\\xe8G?\\xe2\\xa5\\x8c[+\\xe8\\x01G?\\xe5\\x93d\\xd96M\\x94G?\\xc8\\x06'\\xce\\x88\\x96\\xc5G?\\xb6\\xc8\\x99\\x87\\x0f\\x91\\xe7G?\\xb6\\x1a\\xae\\x84\\xda\\x03\\x83G?\\xb9\\x07\\xf6\\xe5\\xd4\\xc3\\xadG?\\xd2\\xff^\\x9c\\xa2\\xbe\\xf8G?\\xc2/\\xfb(\\x9eC\\xf8G?\\xc3uU\\xe6=\\x02\\xf3G?\\xdf\\xf4\\xb2<tx\\x1bG?\\xde\\xcb\\x93\\xdd5\\\\\\xdaee.\"}\n",
      "{'id': 999, 'result': b\"\\x80\\x03]q\\x00(]q\\x01(G?\\xcf\\xbc\\xec\\xf1\\x03/\\xc1G?\\xd6[\\x98u\\x0caNG?\\xe0u7\\xffr\\x01\\x9eG?\\xd2\\xcfd\\xf6\\xf0?\\x92G?\\xbb\\x8f7\\xad\\xc1\\x18\\x1aG?\\xd9\\x95u\\x8a>\\x8bSG?\\xc8\\x84pH\\xef\\xec\\xcdG?\\xe12*hw\\xfb\\xdeG?\\x99\\xce\\xff?\\xc5CKG?\\xb8\\xa6\\x90\\x1c\\xf7\\xab\\xfdG?\\xc3\\xd6U)\\x84\\xf6\\xf7G?\\xb9\\xa3\\x87\\x9a8y\\xa0G?\\xc7\\xfdp\\x84\\x0f\\x17bG?\\xb3(\\n\\xb8XiwG?\\xb9\\xcf7\\x00<\\xad\\xceG?\\xcc\\xddn\\xc4MOHG?\\xcb\\xff\\xdd\\x9c\\x87EEe]q\\x02(G?\\xcb\\x7fS\\xda\\xec\\xc5\\x93G?\\xc6\\x98\\x8b6\\x1b\\xe0zG?\\xdc\\x1e\\xc8\\xa66\\xc5\\xe1G?\\xc7\\x0b\\xe3j\\xee\\xad\\x89G?\\xc2\\xa2@\\x88\\xce\\x05\\x7fG?\\xcf\\x98z\\x80\\x1b\\x9b\\x18G?\\xb9\\xf5\\xbb0\\x83IpG?\\xda\\x9a\\x1d\\xfe\\xf75FG?\\xaa\\xd4\\x0c\\xa5\\x0c\\x81iG?\\xc3,\\x89\\x98p\\xf9\\x1dG?\\xc5\\x88\\xc2N\\xeee\\x1aG?\\xab7V^ \\x10\\x85G?\\xc8dz\\xc9q\\xb7\\xf0G?\\xc0\\x02\\x13)\\xe2\\xdd\\x92G?\\xb0\\xb5j\\x0c\\xdb'\\x97G?\\xcb\\xba\\xc3\\xb2I_\\xa3G?\\xc3Z\\x1a \\x939\\xddee.\"}\n",
      "info > Defining input parameters\n",
      "info > Dispatching node tasks\n",
      "info > Selecting columns\n",
      "info > Calculating distance matrix\n",
      "info > Calculating local membership matrix\n",
      "info > Generating local cluster centroids\n",
      "info > Selecting columns\n",
      "info > Calculating distance matrix\n",
      "info > Calculating local membership matrix\n",
      "info > Generating local cluster centroids\n",
      "info > Waiting for results\n",
      "info > Obtaining results\n",
      "{'id': 999, 'result': b'\\x80\\x03]q\\x00(]q\\x01(G?\\xd2\\xff\\x08\\xb5\\x90\\x833G?\\xd2-q\\x8f\\xd0\\xc7\\x14G?\\xd5\\xc8\\xc3\\xcb\\xc4\\xed\\xadG?\\xc6fl\\xd5$k;G?\\xc3\\xe9a\\xa9\\xfdk\\x8dG?\\xcb\\xdd\\x05\\xb4\\x98\\x11\\x1dG?\\xbd\\xddj\\xd9\\x85|\\xcaG?\\xd4\\xa3\\x18\\xdf\\n\\xc4>G?\\xb4m\\xb7\\x81\\x1f\\x0c\\xb2G?\\xc8\\x16\\xefqD\\xf6WG?\\xc5\\xe3S\\xea\\x88\\xf6WG?\\xad1\\xc7\\x854\\xaciG?\\xc7\\xe4\\x00\\x1b\\xfd.\\x99G?\\xc6i\\xe4\\xcb/\"\\xdfG?\\xb2\\x90\\xfc\\x971\\xc5*G?\\xcd#\\x17\\x1d\\xe3S\\xe3G?\\xc1y\\xb6a\\x81g\\xe9e]q\\x02(G?\\xda\\x00\\x9eMP\\xcenG?\\xd9g\\xf8\\x1f\\xfc\\xd1\\xb4G?\\xdeO\\x16\\xcf\\rF\\xdcG?\\xdb*\\x87\\x01(v\\xfeG?\\xd9(~Gm\\x08\\x08G?\\xd8\\\\\\xd9\\x8e\\x0b\\xe6\\xd9G?\\xd8T\\x97\\xf9\\xaa\\xda\\xcdG?\\xde\\xe0s\\xd8\\xb1\\xe82G?\\xc2\\xf1c7\\x83-\\xc8G?\\xc9\\xc7L\\x82L\\xcaaG?\\xc8\\x9c{N\\xd4gQG?\\xc1\\x86M+\\xd4\\xb4aG?\\xd3F\\x1b0a\\x81[G?\\xc9S\\x02;\\xbd\\x15\\xf9G?\\xc5\\x9e\\xbd]:8\\xa6G?\\xd5\\x93ya\\x08\\x884G?\\xd32\\xc71\\xc70\\xd2ee.'}\n",
      "{'id': 999, 'result': b'\\x80\\x03]q\\x00(]q\\x01(G?\\xd3/\\xad!/\\xb4TG?\\xd3\\x00NK_\\x9fnG?\\xd6\\\\\\x1a\\xfaoF\\xc9G?\\xc6\\x0fL\\x14j\\'VG?\\xc4x\\x85\\xad\\x0e\\xa4rG?\\xcb#\\xc3\\xf2>\\xac\\x9dG?\\xbeI\\xf4\\xcb/u\\xa3G?\\xd4\\xfe\\x03\\nh\\x8dEG?\\xb5e\\x9aW\\x1fPQG?\\xc7g\\xf7\\xd5s\\x88\\x85G?\\xc6Ot\\x9a\\x19\\xa6\\xdfG?\\xac)=K2Q\\xb9G?\\xc7\\x92\\xc7*\\x19\\xde\\xe2G?\\xc4b\\xf0\\xce\\xf8\\xfa\\xc7G?\\xb1I0\\x97\\xe3\\x8b*G?\\xccD\\x8dI1\\x14\\xf8G?\\xc1&\\xe9\\xec\\xe9\\xf9\\x18e]q\\x02(G?\\xdbJ\\x84r\\x00\\xa0\\x03G?\\xd8\\x1bM\\x13\\xc5\\xedAG?\\xe0dp\\xf6\\xd4I\\xe2G?\\xdb\\xca8d\\xdb[YG?\\xdbM)\\xd29&\\x10G?\\xd7\\xfb\\xc9sZm\\x04G?\\xd8\\xbe\\x9f\\x8bhXVG?\\xdf\\'\\xfd\\x984pXG?\\xc4\\x9d\"W\\x9c\\xf9\\xc4G?\\xc8\\x80\\x8b\\x0b9\\x92\\xa5G?\\xca\\x0fvb\\x11\\xc0\\x07G?\\xbd\\xf1\\xf0\\x0f\\xbd\\xc3qG?\\xd2\\xb2\\x03\\x81\\xe2I\\xb0G?\\xca\\x05d\\x94O\\x8f\\xc6G?\\xc2\\xb4\\x14\\xa3\\x8ea\\xc8G?\\xd5\\xe18\\xdc\\xd8\\x8c\\xf7G?\\xd2rq\\r\\xf9\\x02\\x99ee.'}\n",
      "info > Run global averaging for centroids\n",
      "info > Running k-Means on local clusters\n",
      "info > Compute change in cluster centroids\n",
      "info > Iteration: 1, change in centroids: 0.7157536651457497\n",
      "info > Defining input parameters\n",
      "info > Dispatching node tasks\n",
      "info > Selecting columns\n",
      "info > Calculating distance matrix\n",
      "info > Calculating local membership matrix\n",
      "info > Generating local cluster centroids\n",
      "info > Selecting columns\n",
      "info > Calculating distance matrix\n",
      "info > Calculating local membership matrix\n",
      "info > Generating local cluster centroids\n",
      "info > Waiting for results\n",
      "info > Obtaining results\n",
      "{'id': 999, 'result': b'\\x80\\x03]q\\x00(]q\\x01(G?\\xd1\\xce\\x8e\\xa4\\xa7C\\xccG?\\xd2\\x92\\xc1t\\xd09,G?\\xd5\\xe0H9X{qG?\\xc6\\x93\\xef<\\xb8\\xe7.G?\\xc1\\xb0\\x93\\xbb\\x91m\\xfaG?\\xcd\\xdc\\xbd:\\xe5\\x94\\xe8G?\\xbb\\x15\\x1fz\\x1a\\x1a\\x91G?\\xd4\\xde\\xab\\x01\\xf5\\xf0\\xd2G?\\xb1\\xab?\"\\xa25=G?\\xc7\\xa7<C>\\xf3\\xd4G?\\xc5\\xabf\\x87\\xcc>WG?\\xac\\xb7+\\x9cn/\\xd9G?\\xc6\\xa6\\x0c\\xbcs!\\x8aG?\\xc5\\xb8\\x1a1\\x0c\\x85\\xeaG?\\xb3\\xd8\\xb9N\\'\\x11\\xf4G?\\xcd\\x02s\\x0ce\\x01\\x0bG?\\xc2\\xd9\\xa1\\x0f\\x08\\xc7se]q\\x02(G?\\xdc\\x89g\\xce\\xc5\\x16\\xd2G?\\xd9 \\r\\x17d\\xca\\x83G?\\xde\\xa5\\x7f\\xb6d\\x9asG?\\xdb\\xf2[+\\x18\\xc0\\xf5G?\\xdc\\x08\\xe2\\xb6\\xf1\\xfb\\xa8G?\\xd71e\\x96\\xc2\\xf9TG?\\xda\\x90I\\xc0\\x08}\\x90G?\\xdf\\x10[X\\xc2\\xc7\\xf3G?\\xc5\\xeb\\x1c\\xd9\\x14\\xf7\\xd9G?\\xca\\xa8\\n*\\xc1b\\xdaG?\\xc9)HU8\\xa25G?\\xc2V\\xfc{02\\xc3G?\\xd4\\xd0 \\x940JxG?\\xca\\xbc\\x13\\x1e+ZvG?\\xc54 =\\x8c\\x00\\xbfG?\\xd6\\x1a\\x1e\\xc3E\\xdf.G?\\xd2\\x96V\\x87\\xf6\\xf4\\x81ee.'}\n",
      "{'id': 999, 'result': b'\\x80\\x03]q\\x00(]q\\x01(G?\\xd1\\xbe\"^.\\xb2{G?\\xd3\\x02\\xe2x\\xa4\\x96\\x88G?\\xd6U\\x14i!{oG?\\xc5\\xc3;\\xc0\\xdaD\\x06G?\\xc1\\xd3\\xaa\\x92jQ\\x85G?\\xcc\\xc4{\\xd8\\xa0\\x98\\xa9G?\\xba\\xeaH0J\\xc7\\xa0G?\\xd5C\\xb5Gn\\x87\\xa9G?\\xb1\\xe2\\xea\\xc9\\xa3\\x10\\'G?\\xc6\\x9d@\\xe6\\xd0\\x12\\xc5G?\\xc5\\x94\\xcf\\xc2\\x9e\\'\\x1aG?\\xabk\\xbf\\x0et\\xf1\\x92G?\\xc6d\\xd9#\\n\\xb2\\xa4G?\\xc4)\\xcf\\x89~K|G?\\xb1ly1\\xc0\\xc0\\x18G?\\xcc\\xc6-\\xe1\\x94\\xac\\xbaG?\\xc2\\x1e\\x0c\\xb8\\x98\\xc2\\xace]q\\x02(G?\\xde\\xc8p\\x1c\\xa8\\x16\\x91G?\\xd8$\\x9c\\x15\\x06\\xbd\\xd7G?\\xe0|g\\xca[\\xd1\\xaaG?\\xdcV/4\\xa7\\xb8\\xefG?\\xde\\x9c\\xdc\\xfd\\x90#\\xb6G?\\xd60\\xe4\\xc3\\x1e!`G?\\xda\\xeeb\\xd8\\x81D\\xa7G?\\xde\\xa2\\x9cg\\xa7C\\xf8G?\\xc8\\xdcF4\\xcb\\xeb\\xdcG?\\xca`\\xd1\\xca\\xe9\\xb0\\xd6G?\\xcb\\xd1\\xeb5FPeG?\\xbf\\x00\\xa6\\xa9\\xc4$NG?\\xd4*\\x08V\\xc3r\\xc6G?\\xca\\x9c\\xc9O2\\x00\\xd0G?\\xc2\\xa8\\xde\\xcep\\xe0\\x14G?\\xd5`\\x0cTd\"\\xbcG?\\xd1ml6\\xb7x\\xe9ee.'}\n",
      "info > Run global averaging for centroids\n",
      "info > Running k-Means on local clusters\n",
      "info > Compute change in cluster centroids\n",
      "info > Iteration: 2, change in centroids: 0.12987774716627343\n",
      "info > Defining input parameters\n",
      "info > Dispatching node tasks\n",
      "info > Selecting columns\n",
      "info > Calculating distance matrix\n",
      "info > Calculating local membership matrix\n",
      "info > Generating local cluster centroids\n",
      "info > Selecting columns\n",
      "info > Calculating distance matrix\n",
      "info > Calculating local membership matrix\n",
      "info > Generating local cluster centroids\n",
      "info > Waiting for results\n",
      "info > Obtaining results\n",
      "{'id': 999, 'result': b\"\\x80\\x03]q\\x00(]q\\x01(G?\\xd1\\xa8\\xb8\\x19\\xc9\\x83\\xbfG?\\xd2\\x9e\\xc3\\x17\\xd8v>G?\\xd6\\x01Y5\\x92\\xfe\\xa4G?\\xc6\\xc5\\xfc=\\x8f#\\x8dG?\\xc1\\xa7\\xff\\x91lXmG?\\xce>+M\\x80\\x1e\\x01G?\\xbb'\\xf8\\xdb\\x17b\\xe8G?\\xd5'j\\xdf\\xe9\\xb1\\xb3G?\\xb1\\x97A}<\\x02\\xf5G?\\xc7\\xc3\\x17\\xf2\\x05!\\xd9G?\\xc6\\x01\\x0f\\xcb\\x81\\xbe\\xacG?\\xad\\x1aI\\xe7\\xc6(\\x9cG?\\xc6\\xa6j^\\x03\\x05&G?\\xc5\\xcf\\xda\\x80\\x90\\x94\\x19G?\\xb4<cP\\xae\\xfckG?\\xcd \\xb1\\x8fuL\\xf8G?\\xc2\\xfb\\xb2q\\xd6\\xcfle]q\\x02(G?\\xdd\\x05\\xf6\\xe8\\xb9\\xdd\\xb1G?\\xd9+\\x81Z/\\xa4\\xbdG?\\xde\\x95\\x8f\\xa6;\\xbe$G?\\xdc\\x19\\x98\\xe0Wl@G?\\xdcs\\x07\\xae\\xdc\\x9b\\x18G?\\xd7\\x02\\x0f\\xd2P\\x01?G?\\xda\\xec\\xf5'I\\xc7\\xa1G?\\xde\\xbe\\xb1\\t\\xc8\\xee{G?\\xc6@~w\\xcd\\xf27G?\\xca\\x84(&\\x1f\\x06)G?\\xc8\\x9d\\x8b)\\x8b\\x8f\\x1dG?\\xc2b\\x89#+\\xfb\\xfdG?\\xd5\\x00_qES\\xd2G?\\xca\\xaa\\rH\\xec0#G?\\xc5\\x120\\xb3\\xfc\\xe3\\xbfG?\\xd6%1\\x84<b\\xe6G?\\xd2\\xa5\\xe7\\xef\\xa2\\x19\\x04ee.\"}\n",
      "{'id': 999, 'result': b\"\\x80\\x03]q\\x00(]q\\x01(G?\\xd1{\\xd2hM\\x03MG?\\xd2\\xea\\xcd\\xef\\xf9z>G?\\xd6\\xdf>F\\x10\\x94\\xfbG?\\xc6h\\xf2F\\xf0\\xe5\\x13G?\\xc1\\xf98a\\xc8SfG?\\xce\\x1d\\xab\\x98|\\xa5\\x00G?\\xbb\\x18\\x96\\xdb~\\x9d\\x98G?\\xd5v\\x83=\\xb9d\\xbcG?\\xb1\\xb9\\xceVg\\xf4\\xe6G?\\xc6\\xa2'\\x90&\\xdd\\xf5G?\\xc6\\x16\\xac\\xc4B\\r\\x0fG?\\xab\\x9d\\xe8\\xadF\\xc3\\xd1G?\\xc6\\xa6t\\x1c3J\\xfeG?\\xc4x\\x19v\\xa4\\xd6\\xebG?\\xb27\\x1f\\xb0T\\xf9UG?\\xcc\\xed\\x1cO\\x13\\xcd\\xfaG?\\xc2\\xc0\\xcd\\xc4\\x99\\x13\\xf0e]q\\x02(G?\\xe09r\\xa7'h$G?\\xd8\\xc7-~\\xccb\\x13G?\\xe0/\\xb3t\\xdf@uG?\\xdc\\xd1\\x83[\\x9e\\xde\\xfbG?\\xe0\\x08\\xe6\\x98_A\\rG?\\xd5\\x06\\xa2\\xf9\\xb0\\xe3\\xe4G?\\xdcX\\xfe\\x9c\\x12\\x00DG?\\xde\\xd4T\\x15<\\x9d%G?\\xcaGZ\\xc0\\xe7\\xf3SG?\\xca\\x9d8\\xcb,\\xf5\\x8aG?\\xca\\xf8\\x96Pc\\xa7\\x9cG?\\xc0\\x07\\xba\\xe6\\x8f\\x1f\\xd1G?\\xd4\\x82\\xd8\\xb2\\xb6\\xe1\\xe8G?\\xcaN\\x08\\x10\\xfb\\x8cKG?\\xc2b\\x12\\r\\x12\\x17\\x14G?\\xd5\\xb5(\\xea[\\xe3GG?\\xd1;\\xf0't\\xa9\\ree.\"}\n",
      "info > Run global averaging for centroids\n",
      "info > Running k-Means on local clusters\n",
      "info > Compute change in cluster centroids\n",
      "info > Iteration: 3, change in centroids: 0.04333800549799095\n",
      "info > Master algorithm complete\n",
      "info > Result: [[0.2745526442714027, 0.2932606971916164, 0.3506039956766047, 0.17649737105242247, 0.13917874992027573, 0.23577635874677227, 0.105961314237903, 0.3329446453773701, 0.06897782763006408, 0.1812324230959341, 0.1722371912945126, 0.05539015803081464, 0.1769541786546261, 0.16516041550987032, 0.07510003459354264, 0.22677313502309085, 0.14740754441289766], [0.48025086104586, 0.39021859736390363, 0.49185068159248896, 0.44467499664150434, 0.47280369680650264, 0.3440154548750708, 0.4318222717188852, 0.4810491944764097, 0.18957288393530383, 0.2075405682662524, 0.2015095637027241, 0.1344339870221198, 0.324316995211502, 0.20691045231773028, 0.15411774838774345, 0.34260111236703616, 0.28032971503627424]]\n",
      "{'id': 999, 'result': b'\\x80\\x03}q\\x00X\\t\\x00\\x00\\x00centroidsq\\x01]q\\x02(]q\\x03(cnumpy.core.multiarray\\nscalar\\nq\\x04cnumpy\\ndtype\\nq\\x05X\\x02\\x00\\x00\\x00f8q\\x06\\x89\\x88\\x87q\\x07Rq\\x08(K\\x03X\\x01\\x00\\x00\\x00<q\\tNNNJ\\xff\\xff\\xff\\xffJ\\xff\\xff\\xff\\xffK\\x00tq\\nbC\\x08\\x86C\\x0bAE\\x92\\xd1?q\\x0b\\x86q\\x0cRq\\rh\\x04h\\x08C\\x08>\\xf8\\xe8\\x83\\xc8\\xc4\\xd2?q\\x0e\\x86q\\x0fRq\\x10h\\x04h\\x08C\\x08\\xd0\\xc9\\xd1\\xbdKp\\xd6?q\\x11\\x86q\\x12Rq\\x13h\\x04h\\x08C\\x08P\\x04@Bw\\x97\\xc6?q\\x14\\x86q\\x15Rq\\x16h\\x04h\\x08C\\x08\\xeaU\\x9a\\xf9\\x9b\\xd0\\xc1?q\\x17\\x86q\\x18Rq\\x19h\\x04h\\x08C\\x08\\x80a\\xfer\\xeb-\\xce?q\\x1a\\x86q\\x1bRq\\x1ch\\x04h\\x08C\\x08@\\x00K\\xdbG \\xbb?q\\x1d\\x86q\\x1eRq\\x1fh\\x04h\\x08C\\x088\\x8b\\xd1\\x0e\\xf7N\\xd5?q \\x86q!Rq\"h\\x04h\\x08C\\x08\\xee\\xfb\\xd1\\xe9\\x87\\xa8\\xb1?q#\\x86q$Rq%h\\x04h\\x08C\\x08\\xe7\\xff\\x15\\xc1\\x9f2\\xc7?q&\\x86q\\'Rq(h\\x04h\\x08C\\x08\\xde\\xe5\\xe1G\\xde\\x0b\\xc6?q)\\x86q*Rq+h\\x04h\\x08C\\x086v\\x86J\\x19\\\\\\xac?q,\\x86q-Rq.h\\x04h\\x08C\\x08\\x12(\\x1b=o\\xa6\\xc6?q/\\x86q0Rq1h\\x04h\\x08C\\x08\\x82\\xb5\\x9a\\xfb\\xf9#\\xc5?q2\\x86q3Rq4h\\x04h\\x08C\\x08\\xe0\\xfa\\x81\\x80\\xc19\\xb3?q5\\x86q6Rq7h\\x04h\\x08C\\x08y\\x8dD\\xef\\xe6\\x06\\xcd?q8\\x86q9Rq:h\\x04h\\x08C\\x08\\xae\\xf17\\x1b@\\xde\\xc2?q;\\x86q<Rq=e]q>(h\\x04h\\x08C\\x08\\xfcV\\x84\\x1bn\\xbc\\xde?q?\\x86q@RqAh\\x04h\\x08C\\x08h\\x03~lW\\xf9\\xd8?qB\\x86qCRqDh\\x04h\\x08C\\x08\\x87\\x1f\\xfdG{z\\xdf?qE\\x86qFRqGh\\x04h\\x08C\\x08\\x9e%\\xfb\\x1d\\x8eu\\xdc?qH\\x86qIRqJh\\x04h\\x08C\\x08\\x99\\x8e\\xcdojB\\xde?qK\\x86qLRqMh\\x04h\\x08C\\x08\\x92r\\x00fY\\x04\\xd6?qN\\x86qORqPh\\x04h\\x08C\\x08\\xf2\\xe3\\xad\\xe1\\xf9\\xa2\\xdb?qQ\\x86qRRqSh\\x04h\\x08C\\x08\\xd0\\xc5\\x82\\x8f\\x82\\xc9\\xde?qT\\x86qURqVh\\x04h\\x08C\\x08\\xc5\\xf2Z\\x9c\\xecC\\xc8?qW\\x86qXRqYh\\x04h\\x08C\\x08\\xda\\xfd\\xa5x\\xb0\\x90\\xca?qZ\\x86q[Rq\\\\h\\x04h\\x08C\\x08\\\\\\x9b\\xf7\\xbc\\x10\\xcb\\xc9?q]\\x86q^Rq_h\\x04h\\x08C\\x08\\xe7\\x8d\\xdd\\x04\"5\\xc1?q`\\x86qaRqbh\\x04h\\x08C\\x08\\xdd\\x1a\\xfe\\x11\\x9c\\xc1\\xd4?qc\\x86qdRqeh\\x04h\\x08C\\x087\\xde\\xf3\\xac\\n|\\xca?qf\\x86qgRqhh\\x04h\\x08C\\x08j}\\x87`!\\xba\\xc3?qi\\x86qjRqkh\\x04h\\x08C\\x08\\x16#L7-\\xed\\xd5?ql\\x86qmRqnh\\x04h\\x08C\\x08\\x08a\\x8b\\x0b\\xec\\xf0\\xd1?qo\\x86qpRqqees.'}\n"
     ]
    }
   ],
   "source": [
    "# Check master method\n",
    "master_task = client.create_new_task(\n",
    "    input_={\n",
    "        'master': True,\n",
    "        'method': 'master',\n",
    "        'kwargs': {\n",
    "            'org_ids': [0, 1],\n",
    "            'k': 2,\n",
    "            'epsilon': 0.05,\n",
    "            'max_iter': 30,\n",
    "            'columns': [\n",
    "                \"radius_mean\",\"texture_mean\",\"smoothness_mean\",\"compactness_mean\",\"concave points_mean\",\"fractal_dimension_mean\"\n",
    "        ,\"concavity_mean\",\"symmetry_mean\",\"radius_se\",\"texture_se\",\"smoothness_se\",\"concavity_se\",\"concave points_se\",\"symmetry_se\"\n",
    "        ,\"fractal_dimension_se\",\"symmetry_worst\", \"fractal_dimension_worst\"\n",
    "            ],\n",
    "            'd_init': 'all',\n",
    "            'init_method': 'random',\n",
    "            'avg_method': 'k-means'\n",
    "        }\n",
    "    },\n",
    "    organization_ids=[0]\n",
    ")\n",
    "results = client.get_results(master_task.get('id')) "
   ]
  },
  {
   "cell_type": "code",
   "execution_count": 5,
   "id": "d9e580d9",
   "metadata": {},
   "outputs": [
    {
     "name": "stdout",
     "output_type": "stream",
     "text": [
      "[{'centroids': [[0.2745526442714027, 0.2932606971916164, 0.3506039956766047, 0.17649737105242247, 0.13917874992027573, 0.23577635874677227, 0.105961314237903, 0.3329446453773701, 0.06897782763006408, 0.1812324230959341, 0.1722371912945126, 0.05539015803081464, 0.1769541786546261, 0.16516041550987032, 0.07510003459354264, 0.22677313502309085, 0.14740754441289766], [0.48025086104586, 0.39021859736390363, 0.49185068159248896, 0.44467499664150434, 0.47280369680650264, 0.3440154548750708, 0.4318222717188852, 0.4810491944764097, 0.18957288393530383, 0.2075405682662524, 0.2015095637027241, 0.1344339870221198, 0.324316995211502, 0.20691045231773028, 0.15411774838774345, 0.34260111236703616, 0.28032971503627424]]}]\n"
     ]
    }
   ],
   "source": [
    "print(results)"
   ]
  },
  {
   "cell_type": "code",
   "execution_count": 6,
   "id": "732773e5",
   "metadata": {},
   "outputs": [],
   "source": [
    "import pandas as pd\n",
    "import seaborn as sns\n",
    "import matplotlib.pyplot as plt"
   ]
  },
  {
   "cell_type": "code",
   "execution_count": 7,
   "id": "9e3a73ac",
   "metadata": {},
   "outputs": [],
   "source": [
    "df = pd.DataFrame(results)"
   ]
  },
  {
   "cell_type": "code",
   "execution_count": 8,
   "id": "d1a91521",
   "metadata": {},
   "outputs": [
    {
     "name": "stdout",
     "output_type": "stream",
     "text": [
      "[[[0.2745526442714027, 0.2932606971916164, 0.3506039956766047, 0.17649737105242247, 0.13917874992027573, 0.23577635874677227, 0.105961314237903, 0.3329446453773701, 0.06897782763006408, 0.1812324230959341, 0.1722371912945126, 0.05539015803081464, 0.1769541786546261, 0.16516041550987032, 0.07510003459354264, 0.22677313502309085, 0.14740754441289766], [0.48025086104586, 0.39021859736390363, 0.49185068159248896, 0.44467499664150434, 0.47280369680650264, 0.3440154548750708, 0.4318222717188852, 0.4810491944764097, 0.18957288393530383, 0.2075405682662524, 0.2015095637027241, 0.1344339870221198, 0.324316995211502, 0.20691045231773028, 0.15411774838774345, 0.34260111236703616, 0.28032971503627424]]]\n"
     ]
    },
    {
     "data": {
      "text/plain": [
       "Index(['centroids'], dtype='object')"
      ]
     },
     "execution_count": 8,
     "metadata": {},
     "output_type": "execute_result"
    }
   ],
   "source": [
    "centroids_fl = (df.iloc[0].to_list())\n",
    "print(centroids_fl)\n",
    "df.columns"
   ]
  },
  {
   "cell_type": "code",
   "execution_count": 9,
   "id": "68e79ba8",
   "metadata": {},
   "outputs": [],
   "source": [
    "#Flatten the list\n",
    "#Reference: https://stackoverflow.com/questions/25674169/how-does-the-list-comprehension-to-flatten-a-python-list-workvbcfdg\n",
    "centroids_fl = [item for sublist in centroids_fl for item in sublist]"
   ]
  },
  {
   "cell_type": "code",
   "execution_count": 10,
   "id": "3466c1ae",
   "metadata": {},
   "outputs": [
    {
     "data": {
      "text/plain": [
       "[[0.2745526442714027,\n",
       "  0.2932606971916164,\n",
       "  0.3506039956766047,\n",
       "  0.17649737105242247,\n",
       "  0.13917874992027573,\n",
       "  0.23577635874677227,\n",
       "  0.105961314237903,\n",
       "  0.3329446453773701,\n",
       "  0.06897782763006408,\n",
       "  0.1812324230959341,\n",
       "  0.1722371912945126,\n",
       "  0.05539015803081464,\n",
       "  0.1769541786546261,\n",
       "  0.16516041550987032,\n",
       "  0.07510003459354264,\n",
       "  0.22677313502309085,\n",
       "  0.14740754441289766],\n",
       " [0.48025086104586,\n",
       "  0.39021859736390363,\n",
       "  0.49185068159248896,\n",
       "  0.44467499664150434,\n",
       "  0.47280369680650264,\n",
       "  0.3440154548750708,\n",
       "  0.4318222717188852,\n",
       "  0.4810491944764097,\n",
       "  0.18957288393530383,\n",
       "  0.2075405682662524,\n",
       "  0.2015095637027241,\n",
       "  0.1344339870221198,\n",
       "  0.324316995211502,\n",
       "  0.20691045231773028,\n",
       "  0.15411774838774345,\n",
       "  0.34260111236703616,\n",
       "  0.28032971503627424]]"
      ]
     },
     "execution_count": 10,
     "metadata": {},
     "output_type": "execute_result"
    }
   ],
   "source": [
    "centroids_fl"
   ]
  },
  {
   "cell_type": "code",
   "execution_count": 11,
   "id": "10721687",
   "metadata": {},
   "outputs": [],
   "source": [
    "#Sometimes when running the output, the order of the clusters is flipped so in that case we have to re-order them  \n",
    "#Run only if flipped\n",
    "centroids_fl = [centroids_fl[1], centroids_fl[0]]"
   ]
  },
  {
   "cell_type": "code",
   "execution_count": 12,
   "id": "71042eda",
   "metadata": {},
   "outputs": [
    {
     "data": {
      "text/plain": [
       "[[0.48025086104586,\n",
       "  0.39021859736390363,\n",
       "  0.49185068159248896,\n",
       "  0.44467499664150434,\n",
       "  0.47280369680650264,\n",
       "  0.3440154548750708,\n",
       "  0.4318222717188852,\n",
       "  0.4810491944764097,\n",
       "  0.18957288393530383,\n",
       "  0.2075405682662524,\n",
       "  0.2015095637027241,\n",
       "  0.1344339870221198,\n",
       "  0.324316995211502,\n",
       "  0.20691045231773028,\n",
       "  0.15411774838774345,\n",
       "  0.34260111236703616,\n",
       "  0.28032971503627424],\n",
       " [0.2745526442714027,\n",
       "  0.2932606971916164,\n",
       "  0.3506039956766047,\n",
       "  0.17649737105242247,\n",
       "  0.13917874992027573,\n",
       "  0.23577635874677227,\n",
       "  0.105961314237903,\n",
       "  0.3329446453773701,\n",
       "  0.06897782763006408,\n",
       "  0.1812324230959341,\n",
       "  0.1722371912945126,\n",
       "  0.05539015803081464,\n",
       "  0.1769541786546261,\n",
       "  0.16516041550987032,\n",
       "  0.07510003459354264,\n",
       "  0.22677313502309085,\n",
       "  0.14740754441289766]]"
      ]
     },
     "execution_count": 12,
     "metadata": {},
     "output_type": "execute_result"
    }
   ],
   "source": [
    "centroids_fl"
   ]
  },
  {
   "cell_type": "code",
   "execution_count": 19,
   "id": "712e2243",
   "metadata": {},
   "outputs": [],
   "source": [
    "#Construct Dataframe of the centroids abtained in federated part\n",
    "df_cols = pd.DataFrame(centroids_fl)\n",
    "df_new = df_cols.T\n",
    "df_new.columns= ['cluster1','cluster2']"
   ]
  },
  {
   "cell_type": "code",
   "execution_count": 20,
   "id": "1295372f",
   "metadata": {},
   "outputs": [
    {
     "data": {
      "text/html": [
       "<div>\n",
       "<style scoped>\n",
       "    .dataframe tbody tr th:only-of-type {\n",
       "        vertical-align: middle;\n",
       "    }\n",
       "\n",
       "    .dataframe tbody tr th {\n",
       "        vertical-align: top;\n",
       "    }\n",
       "\n",
       "    .dataframe thead th {\n",
       "        text-align: right;\n",
       "    }\n",
       "</style>\n",
       "<table border=\"1\" class=\"dataframe\">\n",
       "  <thead>\n",
       "    <tr style=\"text-align: right;\">\n",
       "      <th></th>\n",
       "      <th>cluster1</th>\n",
       "      <th>cluster2</th>\n",
       "    </tr>\n",
       "  </thead>\n",
       "  <tbody>\n",
       "    <tr>\n",
       "      <th>0</th>\n",
       "      <td>0.480251</td>\n",
       "      <td>0.274553</td>\n",
       "    </tr>\n",
       "    <tr>\n",
       "      <th>1</th>\n",
       "      <td>0.390219</td>\n",
       "      <td>0.293261</td>\n",
       "    </tr>\n",
       "    <tr>\n",
       "      <th>2</th>\n",
       "      <td>0.491851</td>\n",
       "      <td>0.350604</td>\n",
       "    </tr>\n",
       "    <tr>\n",
       "      <th>3</th>\n",
       "      <td>0.444675</td>\n",
       "      <td>0.176497</td>\n",
       "    </tr>\n",
       "    <tr>\n",
       "      <th>4</th>\n",
       "      <td>0.472804</td>\n",
       "      <td>0.139179</td>\n",
       "    </tr>\n",
       "    <tr>\n",
       "      <th>5</th>\n",
       "      <td>0.344015</td>\n",
       "      <td>0.235776</td>\n",
       "    </tr>\n",
       "    <tr>\n",
       "      <th>6</th>\n",
       "      <td>0.431822</td>\n",
       "      <td>0.105961</td>\n",
       "    </tr>\n",
       "    <tr>\n",
       "      <th>7</th>\n",
       "      <td>0.481049</td>\n",
       "      <td>0.332945</td>\n",
       "    </tr>\n",
       "    <tr>\n",
       "      <th>8</th>\n",
       "      <td>0.189573</td>\n",
       "      <td>0.068978</td>\n",
       "    </tr>\n",
       "    <tr>\n",
       "      <th>9</th>\n",
       "      <td>0.207541</td>\n",
       "      <td>0.181232</td>\n",
       "    </tr>\n",
       "    <tr>\n",
       "      <th>10</th>\n",
       "      <td>0.201510</td>\n",
       "      <td>0.172237</td>\n",
       "    </tr>\n",
       "    <tr>\n",
       "      <th>11</th>\n",
       "      <td>0.134434</td>\n",
       "      <td>0.055390</td>\n",
       "    </tr>\n",
       "    <tr>\n",
       "      <th>12</th>\n",
       "      <td>0.324317</td>\n",
       "      <td>0.176954</td>\n",
       "    </tr>\n",
       "    <tr>\n",
       "      <th>13</th>\n",
       "      <td>0.206910</td>\n",
       "      <td>0.165160</td>\n",
       "    </tr>\n",
       "    <tr>\n",
       "      <th>14</th>\n",
       "      <td>0.154118</td>\n",
       "      <td>0.075100</td>\n",
       "    </tr>\n",
       "    <tr>\n",
       "      <th>15</th>\n",
       "      <td>0.342601</td>\n",
       "      <td>0.226773</td>\n",
       "    </tr>\n",
       "    <tr>\n",
       "      <th>16</th>\n",
       "      <td>0.280330</td>\n",
       "      <td>0.147408</td>\n",
       "    </tr>\n",
       "  </tbody>\n",
       "</table>\n",
       "</div>"
      ],
      "text/plain": [
       "    cluster1  cluster2\n",
       "0   0.480251  0.274553\n",
       "1   0.390219  0.293261\n",
       "2   0.491851  0.350604\n",
       "3   0.444675  0.176497\n",
       "4   0.472804  0.139179\n",
       "5   0.344015  0.235776\n",
       "6   0.431822  0.105961\n",
       "7   0.481049  0.332945\n",
       "8   0.189573  0.068978\n",
       "9   0.207541  0.181232\n",
       "10  0.201510  0.172237\n",
       "11  0.134434  0.055390\n",
       "12  0.324317  0.176954\n",
       "13  0.206910  0.165160\n",
       "14  0.154118  0.075100\n",
       "15  0.342601  0.226773\n",
       "16  0.280330  0.147408"
      ]
     },
     "execution_count": 20,
     "metadata": {},
     "output_type": "execute_result"
    }
   ],
   "source": [
    "df_new"
   ]
  },
  {
   "cell_type": "code",
   "execution_count": 13,
   "id": "6b2b96c3",
   "metadata": {},
   "outputs": [],
   "source": [
    "#We copy here the centroids obtained form centralized kmeans clustering\n",
    "centroids_cent= [[0.48010439, 0.39144693, 0.49183404, 0.44705496, 0.47317353,\n",
    "        0.34751595, 0.43359673, 0.48305339, 0.19052399, 0.20721244,\n",
    "        0.20037102, 0.1359733 , 0.32548816, 0.20864259, 0.15629238,\n",
    "        0.34490158, 0.28278368],\n",
    "       [0.27520311, 0.29399223, 0.35167877, 0.17778447, 0.14096328,\n",
    "        0.23611812, 0.10788271, 0.33365764, 0.06895603, 0.18137869,\n",
    "        0.17256804, 0.05591816, 0.17813427, 0.16459688, 0.07527563,\n",
    "        0.22706555, 0.14820564]]"
   ]
  },
  {
   "cell_type": "code",
   "execution_count": 14,
   "id": "b57edaa0",
   "metadata": {},
   "outputs": [],
   "source": [
    "#To find Euclidean distance\n",
    "from scipy.spatial import distance\n",
    "distance_c1 = distance.euclidean(centroids_fl[0],centroids_cent[0])\n",
    "distance_c2 = distance.euclidean(centroids_fl[1],centroids_cent[1])"
   ]
  },
  {
   "cell_type": "code",
   "execution_count": 15,
   "id": "26da6e7e",
   "metadata": {
    "scrolled": false
   },
   "outputs": [
    {
     "data": {
      "text/plain": [
       "0.007200248954613143"
      ]
     },
     "execution_count": 15,
     "metadata": {},
     "output_type": "execute_result"
    }
   ],
   "source": [
    "distance_c1"
   ]
  },
  {
   "cell_type": "code",
   "execution_count": 16,
   "id": "b5124b12",
   "metadata": {
    "scrolled": true
   },
   "outputs": [
    {
     "data": {
      "text/plain": [
       "0.003760994762333353"
      ]
     },
     "execution_count": 16,
     "metadata": {},
     "output_type": "execute_result"
    }
   ],
   "source": [
    "distance_c2"
   ]
  },
  {
   "cell_type": "code",
   "execution_count": 532,
   "id": "e7e442b3",
   "metadata": {},
   "outputs": [],
   "source": [
    "#We store manually the distance between centroids obtained for cluster 1 in centralized and federated settings in a list\n",
    "#for each iteration of every experiment \n",
    "distances1=[0.03143528272765035,0.033716997322332146,0.025872045757177546,0.028847437850228905,0.027581230767583984]"
   ]
  },
  {
   "cell_type": "code",
   "execution_count": 533,
   "id": "5f3163ef",
   "metadata": {},
   "outputs": [],
   "source": [
    "# we store maually the distance between centroids obtained for cluster 2 in centralized and federated settings in a list\n",
    "#for each iteration of every experiment\n",
    "distances2=[0.014121646365191778,0.016620494676596795,0.012792047188747525,0.01067331262228887,0.013322705176279008]"
   ]
  },
  {
   "cell_type": "code",
   "execution_count": 469,
   "id": "de942df1",
   "metadata": {},
   "outputs": [],
   "source": [
    "import numpy as np\n",
    "from statistics import mean"
   ]
  },
  {
   "cell_type": "code",
   "execution_count": 534,
   "id": "19effaea",
   "metadata": {},
   "outputs": [
    {
     "data": {
      "text/plain": [
       "0.029490598884994588"
      ]
     },
     "execution_count": 534,
     "metadata": {},
     "output_type": "execute_result"
    }
   ],
   "source": [
    "mean(distances1)"
   ]
  },
  {
   "cell_type": "code",
   "execution_count": 535,
   "id": "3249f15a",
   "metadata": {},
   "outputs": [
    {
     "data": {
      "text/plain": [
       "0.0027855882130090664"
      ]
     },
     "execution_count": 535,
     "metadata": {},
     "output_type": "execute_result"
    }
   ],
   "source": [
    "np.std(distances1)"
   ]
  },
  {
   "cell_type": "code",
   "execution_count": 536,
   "id": "ad849d70",
   "metadata": {},
   "outputs": [
    {
     "data": {
      "text/plain": [
       "0.013506041205820796"
      ]
     },
     "execution_count": 536,
     "metadata": {},
     "output_type": "execute_result"
    }
   ],
   "source": [
    "mean(distances2)"
   ]
  },
  {
   "cell_type": "code",
   "execution_count": 537,
   "id": "97e230ee",
   "metadata": {
    "scrolled": true
   },
   "outputs": [
    {
     "data": {
      "text/plain": [
       "0.0019311416787991607"
      ]
     },
     "execution_count": 537,
     "metadata": {},
     "output_type": "execute_result"
    }
   ],
   "source": [
    "np.std(distances2)"
   ]
  }
 ],
 "metadata": {
  "kernelspec": {
   "display_name": "fl",
   "language": "python",
   "name": "fl"
  },
  "language_info": {
   "codemirror_mode": {
    "name": "ipython",
    "version": 3
   },
   "file_extension": ".py",
   "mimetype": "text/x-python",
   "name": "python",
   "nbconvert_exporter": "python",
   "pygments_lexer": "ipython3",
   "version": "3.7.13"
  }
 },
 "nbformat": 4,
 "nbformat_minor": 5
}
